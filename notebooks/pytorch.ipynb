{
 "cells": [
  {
   "cell_type": "code",
   "execution_count": null,
   "id": "40db99b3",
   "metadata": {},
   "outputs": [],
   "source": [
    "# Import the PyTorch library\n",
    "import torch"
   ]
  },
  {
   "cell_type": "code",
   "execution_count": null,
   "id": "1812eb93",
   "metadata": {},
   "outputs": [],
   "source": [
    "# Create a tensor filled with ones with dimensions 3x4\n",
    "twos = torch.ones(3, 4)\n",
    "# Print the tensor\n",
    "twos"
   ]
  },
  {
   "cell_type": "code",
   "execution_count": null,
   "id": "7c03b24d",
   "metadata": {},
   "outputs": [],
   "source": [
    "# Create a tensor filled with the number 3 with dimensions 3x4\n",
    "three = torch.full((3, 4), 3)\n",
    "# Print the tensor\n",
    "three"
   ]
  }
 ],
 "metadata": {
  "kernelspec": {
   "display_name": "Python 3",
   "language": "python",
   "name": "python3"
  },
  "language_info": {
   "codemirror_mode": {
    "name": "ipython",
    "version": 3
   },
   "file_extension": ".py",
   "mimetype": "text/x-python",
   "name": "python",
   "nbconvert_exporter": "python",
   "pygments_lexer": "ipython3",
   "version": "3.13.3"
  }
 },
 "nbformat": 4,
 "nbformat_minor": 5
}
